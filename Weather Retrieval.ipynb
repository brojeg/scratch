{
 "cells": [
  {
   "cell_type": "markdown",
   "metadata": {},
   "source": [
    "# Weather Retrieval\n",
    "\n",
    "Using the free API from [Open Weather Map](https://openweathermap.org/), I would like to collect my local weather information.  WIth this information, I then want eventually to store it in a SQLite database to back-track weather patterns.  Certain weather changes are more difficult to keep track of, such as barometric pressure and wind speed.  These are usually aggregated for prior days, so storing them makes its easier to find interesting fun facts of local weather changes.  I'd also like to incorporate a Flask webpage for displaying or querying certain parameters.\n",
    "\n",
    "<br> Altnerate City IDs include:\n",
    " - Austin: 4671654\n",
    " - Chicago: 4887398\n",
    " - New York: 5128581\n",
    " - Pittsburgh: 5206379\n",
    " - Tahoe: 5599665\n"
   ]
  },
  {
   "cell_type": "code",
   "execution_count": null,
   "metadata": {},
   "outputs": [],
   "source": [
    "import os\n",
    "import requests\n",
    "import datetime\n",
    "import sqlite3\n",
    "import pprint as pp"
   ]
  },
  {
   "cell_type": "code",
   "execution_count": null,
   "metadata": {},
   "outputs": [],
   "source": [
    "weather_api_key = os.getenv('weather_api_key')\n",
    "city_id =  os.getenv('weather_api_my_city_id')"
   ]
  },
  {
   "cell_type": "code",
   "execution_count": null,
   "metadata": {},
   "outputs": [],
   "source": [
    "f'https://api.openweathermap.org/data/2.5/weather?id={city_id}&APPID={weather_api_key}'"
   ]
  },
  {
   "cell_type": "code",
   "execution_count": null,
   "metadata": {},
   "outputs": [],
   "source": [
    "r = requests.get(f'https://api.openweathermap.org/data/2.5/weather?id={city_id}&APPID={weather_api_key}')"
   ]
  },
  {
   "cell_type": "markdown",
   "metadata": {},
   "source": [
    "## Scratch area\n",
    "This area is a continuation of scratch. Some code was used to flatten the JSON to make it more manageable until a different method was used.  I am leaving this area for now in case I want to revisit the code.  None of these methods were used in the Database section"
   ]
  },
  {
   "cell_type": "code",
   "execution_count": null,
   "metadata": {
    "scrolled": false
   },
   "outputs": [],
   "source": [
    "pp.pprint(r.json())"
   ]
  },
  {
   "cell_type": "code",
   "execution_count": null,
   "metadata": {},
   "outputs": [],
   "source": [
    "def flatten_json(json_object):\n",
    "    output = {}\n",
    "    \n",
    "    def flatten(x, name=''):\n",
    "        if isinstance(x, dict):\n",
    "            for a in x:\n",
    "                flatten(x[a], name + a + '_')\n",
    "        elif type(x) is list:\n",
    "            i = 0\n",
    "            for a in x:\n",
    "                flatten(a, name + str(i) +'_')\n",
    "                i += 1\n",
    "        else:\n",
    "            output[name[:-1]] = x\n",
    "            \n",
    "    flatten(json_object)\n",
    "    return output"
   ]
  },
  {
   "cell_type": "code",
   "execution_count": null,
   "metadata": {
    "scrolled": true
   },
   "outputs": [],
   "source": [
    "weather_dict = flatten_json(r.json())"
   ]
  },
  {
   "cell_type": "code",
   "execution_count": null,
   "metadata": {},
   "outputs": [],
   "source": [
    "pp.pprint(weather_dict)"
   ]
  },
  {
   "cell_type": "code",
   "execution_count": null,
   "metadata": {
    "scrolled": true
   },
   "outputs": [],
   "source": [
    "for key, value in r.json().items():\n",
    "    if isinstance(value, dict):\n",
    "        for k, v in value.items():\n",
    "            print(f'\\t{key} | {k}, {v}')\n",
    "    elif isinstance(value, list):\n",
    "        for i in range(len(value)):\n",
    "            print(flatten_json(value[i]))\n",
    "    else:\n",
    "        print((key, value))"
   ]
  },
  {
   "cell_type": "code",
   "execution_count": null,
   "metadata": {
    "scrolled": true
   },
   "outputs": [],
   "source": [
    "weather_cols = {}\n",
    "for key, val in weather_dict.items():\n",
    "    if type(val) == float:\n",
    "        weather_cols[key] = 'REAL'\n",
    "    elif type(val) == str:\n",
    "        weather_cols[key] = 'TEXT'\n",
    "    else:\n",
    "        weather_cols[key] = 'INT'\n",
    "for key, val in weather_cols.items():\n",
    "    print(key, val)"
   ]
  },
  {
   "cell_type": "code",
   "execution_count": null,
   "metadata": {
    "scrolled": true
   },
   "outputs": [],
   "source": [
    "weather_sqlite_cols = ''\n",
    "for i, (key, val) in enumerate(weather_cols.items()):\n",
    "    if i < len(weather_cols)-1:\n",
    "        print(f'{key} {val}, ')\n",
    "        weather_sqlite_cols += f'{key} {val}, '\n",
    "    else:\n",
    "        print(f'{key} {val}')\n",
    "        weather_sqlite_cols += f'{key} {val}'\n",
    "print(weather_sqlite_cols)\n",
    "\n",
    "\", \".join(weather_cols.values())"
   ]
  },
  {
   "cell_type": "markdown",
   "metadata": {},
   "source": [
    "# SQLite\n",
    "## Creation and Data Entry\n",
    "Create a SQLite database using SQLalchemy.  Create classes to make it easier to automagically insert objects into the database as well as to ignore dictionary items that do not exist in a returned API request.\n",
    "\n",
    "<br> I am using SQLite for this application.  A nifty SQLite viewer can be found at [DB Browser for SQLite](https://sqlitebrowser.org/)"
   ]
  },
  {
   "cell_type": "code",
   "execution_count": null,
   "metadata": {},
   "outputs": [],
   "source": [
    "# where to store the database\n",
    "path = os.path.abspath('.')\n",
    "print(path)\n",
    "weather_database = f'{path}\\weather.sqlite'"
   ]
  },
  {
   "cell_type": "code",
   "execution_count": null,
   "metadata": {
    "scrolled": true
   },
   "outputs": [],
   "source": [
    "print(weather_database)"
   ]
  },
  {
   "cell_type": "code",
   "execution_count": null,
   "metadata": {},
   "outputs": [],
   "source": [
    "import sqlalchemy\n",
    "from sqlalchemy import create_engine\n",
    "from sqlalchemy.ext.declarative import declarative_base\n",
    "from sqlalchemy import Column, Integer, String, Sequence, Float, ForeignKey\n",
    "from sqlalchemy.orm import sessionmaker\n",
    "from dataclasses import dataclass\n",
    "\n",
    "engine = create_engine(f'sqlite:///{weather_database}', echo=False)\n",
    "Base = declarative_base()\n"
   ]
  },
  {
   "cell_type": "code",
   "execution_count": null,
   "metadata": {
    "scrolled": true
   },
   "outputs": [],
   "source": [
    "# Create Python data classes to make it easier/cleaner to put data \n",
    "# into SQLAlchemy objects.  Currently have a City and Weather Attribute class\n",
    "\n",
    "@dataclass\n",
    "class City(Base):\n",
    "    __tablename__ = 'city'\n",
    "    \n",
    "    #id = Column(Integer, Sequence('city_id_seq'), primary_key=True)\n",
    "    id = Column(Integer, primary_key=True)\n",
    "    city_name = Column(String(50))\n",
    "    country_name = Column(String(50))\n",
    "    longitude = Column(Float)\n",
    "    latitude = Column(Float)\n",
    "\n",
    "@dataclass\n",
    "class WeatherAttributes(Base):\n",
    "    __tablename__ = 'weatherattributes'\n",
    "    \n",
    "    id = Column(Integer, Sequence('weather_id_seq'), primary_key=True)\n",
    "    city_id = Column(Integer, ForeignKey(\"city.id\"))\n",
    "    \n",
    "    dt = Column(Integer)\n",
    "    sunrise_dt = Column(Integer)\n",
    "    sunset_dt = Column(Integer)\n",
    "    temp_current = Column(Float)\n",
    "    temp_max = Column(Float)\n",
    "    temp_min = Column(Float)\n",
    "    humidity = Column(Integer)\n",
    "    visibility = Column(Float)\n",
    "    pressure = Column(Integer)\n",
    "    wind_deg = Column(Integer)\n",
    "    wind_spd = Column(Float)\n",
    "    clouds = Column(Integer)\n",
    "    snow_1h = Column(Float)\n",
    "    snow_3h = Column(Float)\n",
    "    rain_1h = Column(Float)\n",
    "    rain_3h = Column(Float)\n",
    "    \n",
    "'''\n",
    "# Weather Patterns class.  Can be a dictionary with \n",
    "# multiple lists inside the dictionary.  Saving this for another time.\n",
    "\n",
    "@dataclass\n",
    "class WeatherPatterns(Base):\n",
    "    __tablename__ = 'weatherpatterns'\n",
    "    \n",
    "    weather_id = Column(Integer)\n",
    "    weather_description = Column(String(50))\n",
    "    weather_icon = Column(String(50))\n",
    "    clouds = Column(Integer)\n",
    "\n",
    "# System attributes proprietary to openweathermap.\n",
    "# May not be necessary for me to store.\n",
    "@dataclass\n",
    "class System(Base):\n",
    "    __tablename__ = 'system'\n",
    "    sys_id = Column(Integer)\n",
    "    sys_message = Column(String(50))\n",
    "    sys_type = Column(Integer)\n",
    "    code = Column(Integer)'''\n",
    "    "
   ]
  },
  {
   "cell_type": "code",
   "execution_count": null,
   "metadata": {},
   "outputs": [],
   "source": [
    "Base.metadata.create_all(engine)"
   ]
  },
  {
   "cell_type": "code",
   "execution_count": null,
   "metadata": {},
   "outputs": [],
   "source": [
    "@dataclass\n",
    "class insert_city:\n",
    "    \n",
    "    def __init__(self, weather_dict):\n",
    "        city_name = weather_dict['name']\n",
    "        id = weather_dict['id']\n",
    "        country_name = weather_dict['sys']['country']\n",
    "        longitude = weather_dict['coord']['lon']\n",
    "        latitude = weather_dict['coord']['lat']\n",
    "    \n",
    "@dataclass\n",
    "class insert_weather_event:\n",
    "    \n",
    "    def __init__(self, weather_dict):\n",
    "        self.dt = weather_dict.get('dt')\n",
    "        self.city_id = weather_dict.get('id')\n",
    "        self.sunrise_dt = weather_dict.get('sys').get('sunrise')\n",
    "        self.sunset_dt = weather_dict.get('sys').get('sunset')\n",
    "        self.visibility = weather_dict.get('visibility')\n",
    "        self.humidity = weather_dict.get('main').get('humidity')\n",
    "        self.pressure = weather_dict.get('main').get('pressure')\n",
    "        self.temp_current = weather_dict.get('main').get('temp')\n",
    "        self.temp_max = weather_dict.get('main').get('temp_min')\n",
    "        self.temp_min = weather_dict.get('main').get('temp_max')\n",
    "        self.wind_deg = weather_dict.get('wind').get('deg')\n",
    "        self.wind_spd = weather_dict.get('wind').get('speed')\n",
    "        self.clouds = weather_dict.get('clouds').get('all')\n",
    "        if isinstance(weather_dict.get('snow'), dict):\n",
    "            self.snow_1h = weather_dict.get('snow').get('1h')\n",
    "            self.snow_3h = weather_dict.get('snow').get('3h')\n",
    "        if isinstance(weather_dict.get('rain'), dict):\n",
    "            self.rain_1h = weather_dict.get('rain').get('1h')\n",
    "            self.rain_3h = weather_dict.get('rain').get('3h')\n",
    "            \n",
    "'''     Need to figure out what to do with weather events\n",
    "        Can be multiple nested lists in the weather dict\n",
    "        self.weather_description = weather_dict.get('weather').get('description')\n",
    "        self.weather_icon = weather_dict.get('weather').get('description')\n",
    "        self.weather_id = weather_dict.get('weather').get('id')\n",
    "        self.weather_main = weather_dict.get('weather').get('main')'''"
   ]
  },
  {
   "cell_type": "code",
   "execution_count": null,
   "metadata": {},
   "outputs": [],
   "source": [
    "# Weather even JSON object to be passed in later variables\n",
    "# Unique to the city and timestamp data was retrieved\n",
    "weather_event = r.json()"
   ]
  },
  {
   "cell_type": "code",
   "execution_count": null,
   "metadata": {},
   "outputs": [],
   "source": [
    "# Pass the weather_event JSON to the city or weather classes\n",
    "c = insert_city(weather_event)\n",
    "w = insert_weather_event(weather_event)\n",
    "# Unpack the weather class into the weather database object\n",
    "newEvent = WeatherAttributes(**w.__dict__)"
   ]
  },
  {
   "cell_type": "code",
   "execution_count": null,
   "metadata": {
    "scrolled": true
   },
   "outputs": [],
   "source": [
    "# Check if a city is added to the database\n",
    "# If a city does not exist, add it to the database\n",
    "Session = sessionmaker()\n",
    "Session.configure(bind=engine) # once engine is available\n",
    "session = Session()\n",
    "city_already_added = session.query(City).filter_by(id=weather_event['id']).first()\n",
    "if not city_already_added:\n",
    "    newCity = City(**c.__dict__)\n",
    "    session.add(newCity)\n",
    "else:\n",
    "    session.rollback()\n",
    "session.commit()"
   ]
  },
  {
   "cell_type": "code",
   "execution_count": null,
   "metadata": {},
   "outputs": [],
   "source": [
    "# Commit the latest weather event to the database\n",
    "Session = sessionmaker()\n",
    "Session.configure(bind=engine)\n",
    "session = Session()\n",
    "session.add(newEvent)\n",
    "session.commit()"
   ]
  },
  {
   "cell_type": "markdown",
   "metadata": {},
   "source": [
    "# Obsolete\n",
    "Replaced this with an unpackable class.\n",
    "<br>Allows for certain elements to activate in if statements\n",
    "\n",
    "newCity = City(city_name = weather_event['name'],\n",
    "               id = weather_event['id'],\n",
    "               country_name = weather_event['sys']['country'],\n",
    "               longitude = weather_event['coord']['lon'],\n",
    "               latitude = weather_event['coord']['lat'])\n",
    "               \n",
    "newEvent = WeatherAttributes(\n",
    "    dt = weather_event.get('dt'),\n",
    "    city_id = weather_event.get('id'),\n",
    "    sunrise_dt = weather_event.get('sys').get('sunrise'),\n",
    "    sunset_dt = weather_event.get('sys').get('sunset'),\n",
    "    visibility = weather_event.get('visibility'),\n",
    "    humidity = weather_event.get('main').get('humidity'),\n",
    "    pressure = weather_event.get('main').get('pressure'),\n",
    "    temp_current = weather_event.get('main').get('temp'),\n",
    "    temp_max = weather_event.get('main').get('temp_min'),\n",
    "    temp_min = weather_event.get('main').get('temp_max'),\n",
    "    #weather_description = weather_event.get('weather').get('description'),\n",
    "    #weather_icon = weather_event.get('weather').get('description'),\n",
    "    #weather_id = weather_event.get('weather').get('id'),\n",
    "    #weather_main = weather_event.get('weather').get('main'),\n",
    "    wind_deg = weather_event.get('wind').get('deg'),\n",
    "    wind_spd = weather_event.get('wind').get('speed'),\n",
    "    clouds = weather_event.get('clouds').get('all'),\n",
    "    snow_1h = weather_event.get('snow').get('1h'),\n",
    "    snow_3h = weather_event.get('snow').get('3h'),\n",
    "    rain_1h = weather_event.get('rain').get('1h'),\n",
    "    rain_3h = weather_event.get('rain').get('3h')\n",
    ")"
   ]
  }
 ],
 "metadata": {
  "kernelspec": {
   "display_name": "Python 3",
   "language": "python",
   "name": "python3"
  },
  "language_info": {
   "codemirror_mode": {
    "name": "ipython",
    "version": 3
   },
   "file_extension": ".py",
   "mimetype": "text/x-python",
   "name": "python",
   "nbconvert_exporter": "python",
   "pygments_lexer": "ipython3",
   "version": "3.7.0"
  }
 },
 "nbformat": 4,
 "nbformat_minor": 2
}
